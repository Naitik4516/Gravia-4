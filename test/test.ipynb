{
 "cells": [
  {
   "cell_type": "code",
   "execution_count": null,
   "metadata": {},
   "outputs": [],
   "source": [
    "# Download the helper library from https://www.twilio.com/docs/python/install\n",
    "import os\n",
    "from twilio.rest import Client\n",
    "\n",
    "\n",
    "# Find your Account SID and Auth Token at twilio.com/console\n",
    "# and set the environment variables. See http://twil.io/secure\n",
    "account_sid = os.environ['TWILIO_ACCOUNT_SID']\n",
    "auth_token = os.environ['TWILIO_AUTH_TOKEN']\n",
    "client = Client(account_sid, auth_token)\n",
    "\n",
    "message = client.messages \\\n",
    "                .create(\n",
    "                     body=\"Hello\",\n",
    "                     from_ ='+13515297158',\n",
    "                     to ='+916395396991'\n",
    "                 )\n",
    "\n",
    "print(message.status)\n"
   ]
  },
  {
   "cell_type": "code",
   "execution_count": null,
   "metadata": {},
   "outputs": [],
   "source": [
    "\n",
    "import smtplib\n",
    "server = smtplib.SMTP('smtp.live.com', 587)\n",
    "server.ehlo()\n",
    "server.starttls()\n",
    "server.login(\"naitiksinghal26@outlook.com\", \"Krishna@0606\")\n",
    "server.sendmail(\"naitiksinghal26@outlook.com\", \"naitiksinghal26@outlook.com\",  f\"Subject: Hello World\")\n",
    "server.close()"
   ]
  },
  {
   "cell_type": "code",
   "execution_count": null,
   "metadata": {},
   "outputs": [],
   "source": [
    "import pywhatkit\n",
    "pywhatkit.send_mail(\"naitiksinghal26@outlook.com\", \"Krishna@0606\",\"Test\", \"Hello World\",\"naitiksinghal26@outlook.com\")"
   ]
  },
  {
   "cell_type": "code",
   "execution_count": null,
   "metadata": {},
   "outputs": [],
   "source": [
    "import win32com.client as win32\n",
    "outlook = win32.Dispatch('outlook.application')\n",
    "mail = outlook.CreateItem(0)\n",
    "mail.To = 'naitiksinghal26@outlook.com\"'\n",
    "mail.Subject = 'Message subject'\n",
    "mail.Body = 'Message body'\n",
    "mail.HTMLBody = '<h2>HTML Message body</h2>' #this field is optional\n",
    "\n",
    "# To attach a file to the email (optional):\n",
    "# attachment  = \"Path to the attachment\"\n",
    "# mail.Attachments.Add(attachment)\n",
    "\n",
    "mail.Send()"
   ]
  },
  {
   "cell_type": "code",
   "execution_count": null,
   "metadata": {},
   "outputs": [],
   "source": [
    "import requests\n",
    "\n",
    "print(\"Running\")\n",
    "try:\n",
    "    r = requests.get(\"https://www.google.com\")\n",
    "    print(r.status_code)\n",
    "    # print(r.content)\n",
    "    with open(\"index.html\", \"w\") as f:\n",
    "        f.write(r.text)\n",
    "except Exception: print(\"No Internet connection\")"
   ]
  },
  {
   "cell_type": "code",
   "execution_count": null,
   "metadata": {},
   "outputs": [],
   "source": [
    "import textwrap\n",
    "\n",
    "text = \"Security mode is on. Maybe Initially the alarm will ring for confirmation, press q for exit or say stop security mode or off security mode\"\n",
    "text = \"\\n \".join(textwrap.wrap(text,width=15))\n",
    "print(text)"
   ]
  },
  {
   "cell_type": "markdown",
   "metadata": {},
   "source": [
    "import tkinter as tk\t\t\t\t\t\n",
    "from tkinter import ttk\n",
    "\n",
    "\n",
    "root = tk.Tk()\n",
    "root.title(\"Tab Widget\")\n",
    "tabControl = ttk.Notebook(root)\n",
    "\n",
    "tab1 = ttk.Frame(tabControl)\n",
    "tab2 = ttk.Frame(tabControl)\n",
    "\n",
    "\n",
    "def nextTab():\n",
    "    tabControl.select(tab2)\n",
    "\n",
    "tabControl.add(tab1, text ='Tab 1')\n",
    "tabControl.add(tab2, text ='Tab 2')\n",
    "tabControl.pack(expand = 1, fill =\"both\")\n",
    "ttk.Button(tab1, text=\"Click Me!\", command=nextTab).pack()\n",
    "\n",
    "ttk.Label(tab1,\n",
    "\t\ttext =\"Welcome to \\\n",
    "\t\tGeeksForGeeks\").grid(column = 0,\n",
    "\t\t\t\t\t\t\trow = 0,\n",
    "\t\t\t\t\t\t\tpadx = 30,\n",
    "\t\t\t\t\t\t\tpady = 30)\n",
    "ttk.Label(tab2,\n",
    "\t\ttext =\"Lets dive into the\\\n",
    "\t\tworld of computers\").grid(column = 0,\n",
    "\t\t\t\t\t\t\t\t\trow = 0,\n",
    "\t\t\t\t\t\t\t\t\tpadx = 30,\n",
    "\t\t\t\t\t\t\t\t\tpady = 30)\n",
    "\n",
    "root.mainloop()\n"
   ]
  },
  {
   "cell_type": "code",
   "execution_count": null,
   "metadata": {},
   "outputs": [],
   "source": [
    "import psutil\n",
    "\n",
    "battery = psutil.sensors_battery()\n",
    "percentage = battery.percent \n",
    "s = battery.secsleft/60/60\n",
    "print(percentage, battery.power_plugged,battery.secsleft, \"{:.2f}\".format(s))"
   ]
  },
  {
   "cell_type": "code",
   "execution_count": null,
   "metadata": {},
   "outputs": [],
   "source": [
    "from time import sleep\n",
    "\n",
    "a = True\n",
    "\n",
    "def m():\n",
    "    global a\n",
    "    while a:\n",
    "        print(\"Excecuting...\")\n",
    "        sleep(1)\n",
    "        # a = False\n",
    "        sleep(1)\n",
    "        print(\"Excecuted\")\n",
    "    else:\n",
    "        print(\"Canceled\")\n",
    "\n",
    "m()"
   ]
  },
  {
   "cell_type": "code",
   "execution_count": null,
   "metadata": {},
   "outputs": [],
   "source": [
    "import wikipedia\n",
    "\n",
    "webquery = \"Dinasour\"\n",
    "try:\n",
    "    results = wikipedia.summary(webquery, sentences=2)\n",
    "    print(results)\n",
    "except Exception:\n",
    "    print(\"Sorry I don't know the answer\")"
   ]
  },
  {
   "cell_type": "code",
   "execution_count": null,
   "metadata": {},
   "outputs": [],
   "source": []
  }
 ],
 "metadata": {
  "interpreter": {
   "hash": "45fd224348effe700587b2313e78af002d5f38d6d1887c5d874439e4c9fcb873"
  },
  "kernelspec": {
   "display_name": "Python 3.10.0 64-bit ('venv': venv)",
   "language": "python",
   "name": "python3"
  },
  "language_info": {
   "codemirror_mode": {
    "name": "ipython",
    "version": 3
   },
   "file_extension": ".py",
   "mimetype": "text/x-python",
   "name": "python",
   "nbconvert_exporter": "python",
   "pygments_lexer": "ipython3",
   "version": "3.10.0"
  },
  "orig_nbformat": 4
 },
 "nbformat": 4,
 "nbformat_minor": 2
}
